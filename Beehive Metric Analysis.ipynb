{
  "metadata": {
    "kernelspec": {
      "name": "python",
      "display_name": "Python (Pyodide)",
      "language": "python"
    },
    "language_info": {
      "codemirror_mode": {
        "name": "python",
        "version": 3
      },
      "file_extension": ".py",
      "mimetype": "text/x-python",
      "name": "python",
      "nbconvert_exporter": "python",
      "pygments_lexer": "ipython3",
      "version": "3.8"
    }
  },
  "nbformat_minor": 4,
  "nbformat": 4,
  "cells": [
    {
      "cell_type": "markdown",
      "source": "### Table of Contents\n\n* [Goals](#goals)\n* [Data](#Data)\n    * [Loading the Data](#section1_1)\n    * [Data Information](#section1_2)\n* [Data Cleaning](#cleaning)\n* [Exploratory Data Analysis](#EDA)\n* * [Big Picture](#section2_1)\n    * [Humidity and Flow](#section2_2)\n    * [Humidity and Weight](#section2_3)\n    * [Temperature and Flow](#section2_4)\n    * [Temperature and Weight](#section2_5)\n* [Conclusion](#conclusion)",
      "metadata": {
        "jp-MarkdownHeadingCollapsed": true
      }
    },
    {
      "cell_type": "markdown",
      "source": "### Goals <a class=\"anchor\" id=\"Goals\"></a> \nThis notebook contains an analysis on some beehive metric data. The goal for this project was to do the following:\n\n* Get acquainted with the data\n* Clean the data so it is ready for analysis\n* Develop questions for analysis\n* Analyze variables within the data to gain patterns and insights on these questions",
      "metadata": {}
    },
    {
      "cell_type": "markdown",
      "source": "### Data <a class=\"anchor\" id=\"Data\"></a>\n\nThe data for this project was downloaded from Kaggle:\n\nhttps://www.kaggle.com/datasets/se18m502/bee-hive-metrics?select=flow_2017.csv\n\nInformation regarding the features for the data are located in the Detail section on the website.",
      "metadata": {}
    },
    {
      "cell_type": "markdown",
      "source": "#### Loading the Data <a class=\"anchor\" id=\"section1_1\"></a>\n\nFirst, the necessary libraries are loaded into the notebook. The pandas library is used to import data from marketing_data.csv and preview the first 100 rows of the DataFrame.",
      "metadata": {}
    },
    {
      "cell_type": "code",
      "source": "import piplite\nawait piplite.install('seaborn')",
      "metadata": {
        "trusted": true
      },
      "outputs": [],
      "execution_count": null
    },
    {
      "cell_type": "code",
      "source": "#import necessary libraries\nimport numpy as np\nimport pandas as pd\nimport matplotlib.pyplot as plt\nimport seaborn as sns\nimport statsmodels.api as sm\nfrom scipy.stats import linregress",
      "metadata": {
        "trusted": true
      },
      "outputs": [],
      "execution_count": null
    },
    {
      "cell_type": "code",
      "source": "#load data files\nflow_2017 = pd.read_csv('flow_2017.csv')\nhumidity_2017 = pd.read_csv('humidity_2017.csv')\ntemperature_2017 = pd.read_csv('temperature_2017.csv')\nweight_2017 = pd.read_csv('weight_2017.csv')",
      "metadata": {
        "trusted": true
      },
      "outputs": [],
      "execution_count": null
    },
    {
      "cell_type": "code",
      "source": "#explore the datasets\nprint(flow_2017.describe())\nprint(weight_2017.describe())\nprint(humidity_2017.describe())\nprint(temperature_2017.describe())\nprint(flow_2017.columns)\nprint(weight_2017.columns)\nprint(humidity_2017.columns)\nprint(temperature_2017.columns)",
      "metadata": {
        "trusted": true
      },
      "outputs": [],
      "execution_count": null
    },
    {
      "cell_type": "code",
      "source": "#first merge\nflow_weight_data = pd.merge(flow_2017, weight_2017, how='left')",
      "metadata": {
        "trusted": true
      },
      "outputs": [],
      "execution_count": null
    },
    {
      "cell_type": "code",
      "source": "print(flow_weight_data.head(100))",
      "metadata": {
        "trusted": true
      },
      "outputs": [],
      "execution_count": null
    },
    {
      "cell_type": "code",
      "source": "#second merge\nhumidity_temp_data = pd.merge(humidity_2017, temperature_2017, how='left')",
      "metadata": {
        "trusted": true
      },
      "outputs": [],
      "execution_count": null
    },
    {
      "cell_type": "code",
      "source": "print(humidity_temp_data.head(100))",
      "metadata": {
        "trusted": true,
        "scrolled": true
      },
      "outputs": [],
      "execution_count": null
    },
    {
      "cell_type": "code",
      "source": "#final merge\nbeehive_data = pd.merge(flow_weight_data, humidity_temp_data, how='inner')",
      "metadata": {
        "trusted": true
      },
      "outputs": [],
      "execution_count": null
    },
    {
      "cell_type": "markdown",
      "source": "#### Data Information <a class=\"anchor\" id=\"section1_2\"></a>\n\nSome immediate insights are:\n\n* There are 4 columns and 227,500 rows.\n* Most values are floats in this dataset; the only integer values are in the `flow` column, and the only object is in the `timestamp` column.\n* The `flow` column contains mostly 0 values, meaning there was no change in bee flow (no bees entering or leaving the hive) at that timestamp. In fact, the interquartile range for `flow` is 0. \n* The `flow` column has a minimum value of -345 and a maximum value of 293, which seem to be outliers possibly due to a measurement error or data entry error.\n* The `weight` column has a minimum value of -0.1 and a maximum value of 68.7. The minimum seems to be an outlier, since the weight of a beehive cannot be below 0 Kg. The maximum value is not within 3 standard deviations of the median, so I do not consider it an outlier.\n* The `humidity` column has a minimum value of -66, which also seems to be an outlier since humidity cannot be below 0%.\n* The `temperature` column has a minimun value of -227 and a maximum value of 56, which also seem to be an outliers since suspected temperature would not go below -32 degrees Celcius or above 38 degrees Celcius.\n* None of the values are null in any of our columns.",
      "metadata": {}
    },
    {
      "cell_type": "code",
      "source": "#exploring the final dataset\nprint(beehive_data.head(100))\nprint(beehive_data.describe())\nprint(beehive_data.info())",
      "metadata": {
        "trusted": true
      },
      "outputs": [],
      "execution_count": null
    },
    {
      "cell_type": "markdown",
      "source": "#### Data Cleaning <a class=\"anchor\" id=\"cleaning\"></a>\n\nAs mentioned before, none of our values are null. \nHowever, we do have outliers in all of our columns and our float values contain too many decimals to be read easily. \nTo clean the data, the following must be done:\n\n* Round float values in `weight`, `humidity`, and `temperature` columns to 2 decimal points\n* Remove outliers from all columns\n",
      "metadata": {}
    },
    {
      "cell_type": "code",
      "source": "#round float values\nbeehive_data['weight'] = round(beehive_data['weight'], 2)\nbeehive_data['humidity'] = round(beehive_data['humidity'], 2)\nbeehive_data['temperature'] = round(beehive_data['temperature'], 2)\n\n#summary statistics\nprint(beehive_data.describe())",
      "metadata": {
        "trusted": true
      },
      "outputs": [],
      "execution_count": null
    },
    {
      "cell_type": "code",
      "source": "#remove outliers\nflow_2017_mid_95 = np.percentile(beehive_data['flow'], [2.5, 97.5])\nbeehive_data_mid_95 = beehive_data[(beehive_data['flow'] >= flow_2017_mid_95[0]) & (beehive_data['flow'] <= flow_2017_mid_95[1])]\nprint(beehive_data_mid_95.describe())\n\n",
      "metadata": {
        "trusted": true
      },
      "outputs": [],
      "execution_count": null
    },
    {
      "cell_type": "code",
      "source": "#use histogram to visualize spread\nplt.hist(beehive_data_mid_95['temperature'])\nplt.xlabel('temperature')\nplt.ylabel('count')\nplt.show()",
      "metadata": {
        "trusted": true
      },
      "outputs": [],
      "execution_count": null
    },
    {
      "cell_type": "markdown",
      "source": "The confidence interval of 95% is still showing extreme outliers in the `temperature` column, so the data will now be filtered such that temperatures below -32 degrees Celcius and above 38 degrees Celcius will be removed.",
      "metadata": {}
    },
    {
      "cell_type": "code",
      "source": "#remove temperatures below 38 degrees Celcius\nfiltered_beehive_data = beehive_data_mid_95[(beehive_data_mid_95['temperature'] >= -38) & (beehive_data_mid_95['temperature'] <= 38)]\n\n#use boxplot to show outliers\nplt.figure()\nsns.boxplot(filtered_beehive_data['temperature'])\nplt.show()\n\n#summary statistics\nprint(filtered_beehive_data['temperature'].describe())",
      "metadata": {
        "trusted": true
      },
      "outputs": [],
      "execution_count": null
    },
    {
      "cell_type": "markdown",
      "source": "After removing the outliers, our data is more symmetrical and now ready for analysis.",
      "metadata": {}
    },
    {
      "cell_type": "markdown",
      "source": "### Exploratory Data Analysis <a class=\"anchor\" id=\"EDA\"></a>\n\nAfter some data cleaning and tidying, the DataFrame is ready for EDA. The following independent variables will be focused on in the analysis:\n\n* `humidity`\n* `temperature` \n\nThe goal will be to see how these independent variables associate with the following dependent variables:\n\n* `flow`\n* `weight`\n\nThe hope is that through summary statistics and visualizations the following questions can be answered:\n\n* Does humidity of the outdoor climate affect bee's flow to and from the beehive?\n* Does humitity of the outdoor climate affect the weight of the beehive?\n* Does temperature of the outdoor climate affect the bee's flow to and from the beehive?\n* Does temperature of the outdoor climate affect the weight of the beehive?\n\nAlong the way, this question may be refined and more questions may pop up.",
      "metadata": {}
    },
    {
      "cell_type": "markdown",
      "source": "#### Big Picture <a class=\"anchor\" id=\"section2_1\">\nIn order to observe the dataset as a whole, `DataFrame.hist()` is used. It gives a full view of all numerical variables in the distribution. \n\nNext, correlations between all numerical variables are viewed using a heat matrix. The heat matrix shows that `weight` may have some correlation with both `humidity` and `temperature`. Interestingly, `flow` may not be correlated with either `humidity` or `temperature`. This is something to look into it a bit more in the analysis.",
      "metadata": {}
    },
    {
      "cell_type": "code",
      "source": "fig = plt.figure(figsize = (10,20))\nax = fig.gca()\nfiltered_beehive_data.hist(ax=ax);",
      "metadata": {
        "trusted": true
      },
      "outputs": [],
      "execution_count": null
    },
    {
      "cell_type": "markdown",
      "source": "The overview shows the `weight` column is skewed to the right, while the others appear normally distributed.",
      "metadata": {}
    },
    {
      "cell_type": "code",
      "source": "#create correlation heatmap\ncolumns_to_correlate = ['flow', 'weight', 'humidity', 'temperature']\n\nplt.figure(figsize=(10,10))\n# heat matrix that shows correlation across all numerical variables\nsns.heatmap(filtered_beehive_data[columns_to_correlate].corr(), annot=True)\nplt.title('Correlation Heatmap')\nplt.tight_layout()\nplt.show()",
      "metadata": {
        "trusted": true
      },
      "outputs": [],
      "execution_count": null
    },
    {
      "cell_type": "markdown",
      "source": "The table of correlation offers initial insight into our variables. It appears `humidity` and `weight` might have a correlation.",
      "metadata": {}
    },
    {
      "cell_type": "markdown",
      "source": "#### Humidity and Flow <a class=\"anchor\" id=\"section2_2\"></a>\n\nNow it's time to start looking further into our Big Quetion A: Does humidity of the outdoor climate affect bee's flow to and from the beehive?\n\nWe have already seen in the heatmap above that `humidity` and `flow` don't appear to be correlated. To further our confidence, a scatterplot will be created to inspect the variables.",
      "metadata": {}
    },
    {
      "cell_type": "code",
      "source": "#create a scatterplot\nfig = plt.figure(figsize=(8,8))\nax = plt.plot()\nsns.scatterplot(x=filtered_beehive_data['humidity'], y=filtered_beehive_data['flow'])\nplt.title('Humidity vs. Flow')\nplt.show()\nplt.clf()",
      "metadata": {
        "trusted": true
      },
      "outputs": [],
      "execution_count": null
    },
    {
      "cell_type": "markdown",
      "source": "As expected, there is no obvious relationship between `humidity` and `flow`.",
      "metadata": {}
    },
    {
      "cell_type": "markdown",
      "source": "#### Humidity and Weight <a class=\"anchor\" id=\"section2_3\"></a>\n\nNext we will look further into our Big Quetion B: Does humidity of the outdoor climate affect the weight of a beehive?\n\nWe have seen in the correlation heatmap previous that `humidity` and `weight` could have a correlation with a negative relationship. To further our confidence, a scatterplot will be created to inspect the variables.",
      "metadata": {}
    },
    {
      "cell_type": "code",
      "source": "#create a scatterplot\nfig = plt.figure(figsize=(8,8))\nax = plt.plot()\nsns.scatterplot(x=filtered_beehive_data['humidity'], y=filtered_beehive_data['weight'])\nplt.title('Humidity vs. Weight')\nplt.show()\nplt.clf()",
      "metadata": {
        "trusted": true,
        "scrolled": true
      },
      "outputs": [],
      "execution_count": null
    },
    {
      "cell_type": "markdown",
      "source": "As expected, there appears to be a negative relationship between `humidity` and `weight`. To explore further, let's find the regression line for this relationship.",
      "metadata": {}
    },
    {
      "cell_type": "code",
      "source": "#create regex line\nmodel = sm.OLS.from_formula('weight~humidity', data = filtered_beehive_data)\nresults = model.fit()\nprint(results.summary)\nprint(results.params)\n\nfitted_values = results.predict(filtered_beehive_data)\nresiduals = filtered_beehive_data.weight - fitted_values\n#check normality\nplt.hist(residuals)\nplt.show()\nplt.clf()\n#check homoscedasticity\nplt.scatter(fitted_values, residuals)\nplt.show()\nplt.clf()\n#plot line\nslope, intercept, r_value, p_value, std_err = linregress(filtered_beehive_data['humidity'], filtered_beehive_data['weight'])\ndef regression_line(x):\n    return slope * x + intercept\nx_pred = np.linspace(min(filtered_beehive_data['humidity']), max(filtered_beehive_data['humidity']), 100)\ny_pred = regression_line(x_pred)\nplt.scatter(filtered_beehive_data['humidity'], filtered_beehive_data['weight'], label='Data points')\nplt.plot(x_pred, y_pred, color='red', label='Regression line')\nplt.xlabel('Humidity')\nplt.ylabel('Weight')\nplt.title('Humidity vs. Weight Regression Line')\nplt.legend()\nplt.show()",
      "metadata": {
        "trusted": true
      },
      "outputs": [],
      "execution_count": null
    },
    {
      "cell_type": "markdown",
      "source": "The overall relationship between `humidity` and `weight` is strong and linear. The regex line has a negative slope of -0.312772, indicating that as `humidity` increases by 1%, `weight` of the beehive decreases by about .31 Kg.",
      "metadata": {}
    },
    {
      "cell_type": "markdown",
      "source": "#### Temperature and Flow <a class=\"anchor\" id=\"section2_4\"></a>\nNow we will look further into our Big Question C: Does temperature of the outdoor climate affect the bee's flow to and from the beehive?\n\nLooking at our correlation heatmap, there does not appear to be an indicator of any obvious relationship between `temperature` and `flow`. To further our confidence, a scatterplot will be created to inspect the variables.",
      "metadata": {}
    },
    {
      "cell_type": "code",
      "source": "#create a scatterplot\nfig = plt.figure(figsize=(8,8))\nax = plt.plot()\nsns.scatterplot(x=filtered_beehive_data['temperature'], y=filtered_beehive_data['flow'])\nplt.title('Temperature vs. Flow')\nplt.show()\nplt.clf()",
      "metadata": {
        "trusted": true
      },
      "outputs": [],
      "execution_count": null
    },
    {
      "cell_type": "markdown",
      "source": "As expected, there is no obvious relationship between `temperature` and `flow`.",
      "metadata": {}
    },
    {
      "cell_type": "markdown",
      "source": "#### Temperature and Weight <a class=\"anchor\" id=\"section2_5\"></a>\nNext we will look further into our Big Question D: Does temperature of the outdoor climate affect the weight of the beehive?\n\nLooking at our correlation heatmap, we see an indication of a weak positive correlation between `temperature` and `weight`. To further our confidence, a scatterplot will be created to inspect the variables.",
      "metadata": {}
    },
    {
      "cell_type": "code",
      "source": "#create a scatterplot\nfig = plt.figure(figsize=(8,8))\nax = plt.plot()\nsns.scatterplot(x=filtered_beehive_data['temperature'], y=filtered_beehive_data['weight'])\nplt.title('Temperature vs. Weight')\nplt.show()\nplt.clf()",
      "metadata": {
        "trusted": true
      },
      "outputs": [],
      "execution_count": null
    },
    {
      "cell_type": "markdown",
      "source": "It appears there might be a weak positive correlation betwen `temperature` and `weight`. To explore further, let's find the regression line for this relationship.",
      "metadata": {}
    },
    {
      "cell_type": "code",
      "source": "#create regex line\nmodel2 = sm.OLS.from_formula('weight~temperature', data = filtered_beehive_data)\nresults2 = model2.fit()\nprint(results2.summary)\nprint(results2.params)\n\nfitted_values2 = results2.predict(filtered_beehive_data)\nresiduals2 = filtered_beehive_data.weight - fitted_values2\n#check normality\nplt.hist(residuals2)\nplt.show()\nplt.clf()\n#check homoscedasticity\nplt.scatter(fitted_values2, residuals2)\nplt.show()\nplt.clf()\n#plot line\nslope, intercept, r_value, p_value, std_err = linregress(filtered_beehive_data['temperature'], filtered_beehive_data['weight'])\ndef regression_line(x):\n    return slope * x + intercept\nx_pred2 = np.linspace(min(filtered_beehive_data['temperature']), max(filtered_beehive_data['temperature']), 100)\ny_pred2 = regression_line(x_pred2)\nplt.scatter(filtered_beehive_data['temperature'], filtered_beehive_data['weight'], label='Data points')\nplt.plot(x_pred2, y_pred2, color='red', label='Regression line')\nplt.xlabel('Temperature')\nplt.ylabel('Weight')\nplt.title('Temperature vs. Weight Regression Line')\nplt.legend()\nplt.show()\nplt.clf()",
      "metadata": {
        "trusted": true
      },
      "outputs": [],
      "execution_count": null
    },
    {
      "cell_type": "markdown",
      "source": "The overall relationship between `temperature` and `weight` is weak and linear. The regex line has a positive slope of 0.231429, indicating that as `temperature` increases by 1 degree Celcius, `weight` of the beehive increases by about .23 Kg.",
      "metadata": {}
    },
    {
      "cell_type": "markdown",
      "source": "### Conclusion <a class=\"anchor\" id=\"conclusion\"></a>\n\n#### Findings Overview\n\nIt has been shown humidity and weight have the strongest relationship, and that it is negative and linear. Temperature and weight also have a linear relationship, though it is weak and positive. This analysis indicates that humidity and temperature have some effect on bee's production of honey. Interestingly, there was no apparent corrrelation between flow and either humidity or temperature, indicating that bees flow in and out of their hives no matter the climate. These insights would be very helpful to beekeepers looking to alter their bee's honey production and scientists studying bee behavior or honey production.\n\n#### Next Steps\n\nMore datasets could be collected to further research. Some things to consider in a future analysis are:\n* Geographical data\n* Bee species\n* Bee food supply (species of flowers used for nectar and pollen)\n* Hobbyist vs. commercial beekeeping\n\n",
      "metadata": {}
    },
    {
      "cell_type": "code",
      "source": "",
      "metadata": {
        "trusted": true
      },
      "outputs": [],
      "execution_count": null
    }
  ]
}